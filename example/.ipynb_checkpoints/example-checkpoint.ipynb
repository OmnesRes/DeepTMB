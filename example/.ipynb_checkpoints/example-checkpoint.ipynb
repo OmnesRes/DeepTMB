{
 "cells": [
  {
   "cell_type": "code",
   "execution_count": 7,
   "metadata": {
    "collapsed": true
   },
   "outputs": [],
   "source": [
    "import pathlib\n",
    "import sys\n",
    "import numpy as np\n",
    "import tensorflow as tf\n",
    "from model.model import Encoders, NN\n",
    "from model import utils\n",
    "import pandas as pd\n",
    "path = pathlib.Path.cwd()\n",
    "if path.stem == 'DeepTMB':\n",
    "    cwd = path\n",
    "else:\n",
    "    cwd = list(path.parents)[::-1][path.parts.index('DeepTMB')]\n",
    "    sys.path.append(str(cwd))\n",
    "physical_devices = tf.config.experimental.list_physical_devices('GPU')\n",
    "tf.config.experimental.set_memory_growth(physical_devices[-2], True)\n",
    "tf.config.experimental.set_visible_devices(physical_devices[-2], 'GPU')"
   ]
  },
  {
   "cell_type": "markdown",
   "metadata": {
    "pycharm": {
     "name": "#%% md\n"
    }
   },
   "source": [
    "# read data"
   ]
  },
  {
   "cell_type": "code",
   "execution_count": 4,
   "metadata": {
    "pycharm": {
     "name": "#%%\n"
    }
   },
   "outputs": [],
   "source": [
    "data = pd.read_csv(cwd / 'example' / 'example_training_data.txt', sep=',')"
   ]
  },
  {
   "cell_type": "markdown",
   "metadata": {
    "pycharm": {
     "name": "#%% md\n"
    }
   },
   "source": [
    "# create arrays"
   ]
  },
  {
   "cell_type": "code",
   "execution_count": 5,
   "metadata": {
    "pycharm": {
     "name": "#%%\n"
    }
   },
   "outputs": [],
   "source": [
    "X = data['panel_values'].values\n",
    "Y = data['exome_values'].values"
   ]
  },
  {
   "cell_type": "code",
   "execution_count": null,
   "metadata": {
    "pycharm": {
     "name": "#%%\n"
    }
   },
   "outputs": [],
   "source": [
    "##no weighting in this example, if you care about a certain TMB region can add weights"
   ]
  },
  {
   "cell_type": "code",
   "execution_count": 6,
   "metadata": {
    "pycharm": {
     "name": "#%%\n"
    }
   },
   "outputs": [],
   "source": [
    "y_weights = np.ones_like(Y)"
   ]
  },
  {
   "cell_type": "code",
   "execution_count": null,
   "metadata": {
    "pycharm": {
     "name": "#%%\n"
    }
   },
   "outputs": [],
   "source": [
    "##log transform and make loaders"
   ]
  },
  {
   "cell_type": "code",
   "execution_count": 8,
   "metadata": {
    "pycharm": {
     "name": "#%%\n"
    }
   },
   "outputs": [],
   "source": [
    "t = utils.LogTransform(bias=4, min_x=0)\n",
    "X = t.trf(X[:, np.newaxis])\n",
    "Y = t.trf(Y)\n",
    "X_loader = utils.Map.PassThrough(X)\n",
    "Y_loader = utils.Map.PassThrough(Y)\n",
    "Y_loader_fcn = utils.Map.PassThrough(Y[:, np.newaxis])\n",
    "W_loader = utils.Map.PassThrough(y_weights)"
   ]
  },
  {
   "cell_type": "code",
   "execution_count": null,
   "metadata": {
    "pycharm": {
     "name": "#%%\n"
    }
   },
   "outputs": [],
   "source": [
    "##build graph"
   ]
  },
  {
   "cell_type": "code",
   "execution_count": null,
   "metadata": {
    "pycharm": {
     "is_executing": true,
     "name": "#%%\n"
    }
   },
   "outputs": [],
   "source": [
    "count_encoder = Encoders.Encoder(shape=(1,), layers=(128,))\n",
    "net = NN(encoders=[count_encoder.model], layers=(64, 32), mode='mixture')\n",
    "net.model.compile(loss=utils.log_prob_loss,\n",
    "                  optimizer=tf.keras.optimizers.Adam(learning_rate=0.001))\n",
    "callbacks = [tf.keras.callbacks.EarlyStopping(monitor='loss', min_delta=0.001, patience=30, mode='min', restore_best_weights=True)]"
   ]
  },
  {
   "cell_type": "code",
   "execution_count": null,
   "metadata": {
    "pycharm": {
     "name": "#%%\n"
    }
   },
   "outputs": [],
   "source": [
    "##train on entire dataset"
   ]
  },
  {
   "cell_type": "code",
   "execution_count": null,
   "metadata": {
    "pycharm": {
     "name": "#%%\n"
    }
   },
   "outputs": [],
   "source": []
  }
 ],
 "metadata": {
  "kernelspec": {
   "display_name": "Python 3 (ipykernel)",
   "language": "python",
   "name": "python3"
  },
  "language_info": {
   "codemirror_mode": {
    "name": "ipython",
    "version": 3
   },
   "file_extension": ".py",
   "mimetype": "text/x-python",
   "name": "python",
   "nbconvert_exporter": "python",
   "pygments_lexer": "ipython3",
   "version": "3.8.12"
  }
 },
 "nbformat": 4,
 "nbformat_minor": 1
}
